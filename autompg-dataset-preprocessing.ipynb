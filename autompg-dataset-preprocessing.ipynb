{
 "cells": [
  {
   "cell_type": "code",
   "execution_count": 1,
   "id": "693ba6df",
   "metadata": {
    "_cell_guid": "b1076dfc-b9ad-4769-8c92-a6c4dae69d19",
    "_uuid": "8f2839f25d086af736a60e9eeb907d3b93b6e0e5",
    "execution": {
     "iopub.execute_input": "2021-09-01T21:39:02.749520Z",
     "iopub.status.busy": "2021-09-01T21:39:02.748315Z",
     "iopub.status.idle": "2021-09-01T21:39:02.769457Z",
     "shell.execute_reply": "2021-09-01T21:39:02.770004Z",
     "shell.execute_reply.started": "2021-09-01T19:49:33.019828Z"
    },
    "papermill": {
     "duration": 0.058625,
     "end_time": "2021-09-01T21:39:02.770306",
     "exception": false,
     "start_time": "2021-09-01T21:39:02.711681",
     "status": "completed"
    },
    "tags": []
   },
   "outputs": [
    {
     "name": "stdout",
     "output_type": "stream",
     "text": [
      "/kaggle/input/autompg-dataset/auto-mpg.csv\n"
     ]
    }
   ],
   "source": [
    "# This Python 3 environment comes with many helpful analytics libraries installed\n",
    "# It is defined by the kaggle/python Docker image: https://github.com/kaggle/docker-python\n",
    "# For example, here's several helpful packages to load\n",
    "\n",
    "import numpy as np # linear algebra\n",
    "import pandas as pd # data processing, CSV file I/O (e.g. pd.read_csv)\n",
    "\n",
    "# Input data files are available in the read-only \"../input/\" directory\n",
    "# For example, running this (by clicking run or pressing Shift+Enter) will list all files under the input directory\n",
    "\n",
    "import os\n",
    "for dirname, _, filenames in os.walk('/kaggle/input'):\n",
    "    for filename in filenames:\n",
    "        print(os.path.join(dirname, filename))\n",
    "\n",
    "# You can write up to 20GB to the current directory (/kaggle/working/) that gets preserved as output when you create a version using \"Save & Run All\" \n",
    "# You can also write temporary files to /kaggle/temp/, but they won't be saved outside of the current session"
   ]
  },
  {
   "cell_type": "code",
   "execution_count": 2,
   "id": "eaa2a515",
   "metadata": {
    "execution": {
     "iopub.execute_input": "2021-09-01T21:39:02.838351Z",
     "iopub.status.busy": "2021-09-01T21:39:02.837693Z",
     "iopub.status.idle": "2021-09-01T21:39:02.938243Z",
     "shell.execute_reply": "2021-09-01T21:39:02.938784Z",
     "shell.execute_reply.started": "2021-09-01T19:49:36.322193Z"
    },
    "papermill": {
     "duration": 0.137169,
     "end_time": "2021-09-01T21:39:02.938981",
     "exception": false,
     "start_time": "2021-09-01T21:39:02.801812",
     "status": "completed"
    },
    "tags": []
   },
   "outputs": [],
   "source": [
    "auto=pd.read_csv(\"../input/autompg-dataset/auto-mpg.csv\")"
   ]
  },
  {
   "cell_type": "code",
   "execution_count": 3,
   "id": "2f3252e8",
   "metadata": {
    "execution": {
     "iopub.execute_input": "2021-09-01T21:39:03.006227Z",
     "iopub.status.busy": "2021-09-01T21:39:03.005194Z",
     "iopub.status.idle": "2021-09-01T21:39:03.037933Z",
     "shell.execute_reply": "2021-09-01T21:39:03.038639Z",
     "shell.execute_reply.started": "2021-09-01T19:19:33.976348Z"
    },
    "papermill": {
     "duration": 0.067662,
     "end_time": "2021-09-01T21:39:03.038846",
     "exception": false,
     "start_time": "2021-09-01T21:39:02.971184",
     "status": "completed"
    },
    "tags": []
   },
   "outputs": [
    {
     "data": {
      "text/html": [
       "<div>\n",
       "<style scoped>\n",
       "    .dataframe tbody tr th:only-of-type {\n",
       "        vertical-align: middle;\n",
       "    }\n",
       "\n",
       "    .dataframe tbody tr th {\n",
       "        vertical-align: top;\n",
       "    }\n",
       "\n",
       "    .dataframe thead th {\n",
       "        text-align: right;\n",
       "    }\n",
       "</style>\n",
       "<table border=\"1\" class=\"dataframe\">\n",
       "  <thead>\n",
       "    <tr style=\"text-align: right;\">\n",
       "      <th></th>\n",
       "      <th>mpg</th>\n",
       "      <th>cylinders</th>\n",
       "      <th>displacement</th>\n",
       "      <th>horsepower</th>\n",
       "      <th>weight</th>\n",
       "      <th>acceleration</th>\n",
       "      <th>model year</th>\n",
       "      <th>origin</th>\n",
       "      <th>car name</th>\n",
       "    </tr>\n",
       "  </thead>\n",
       "  <tbody>\n",
       "    <tr>\n",
       "      <th>0</th>\n",
       "      <td>18.0</td>\n",
       "      <td>8</td>\n",
       "      <td>307.0</td>\n",
       "      <td>130</td>\n",
       "      <td>3504</td>\n",
       "      <td>12.0</td>\n",
       "      <td>70</td>\n",
       "      <td>1</td>\n",
       "      <td>chevrolet chevelle malibu</td>\n",
       "    </tr>\n",
       "    <tr>\n",
       "      <th>1</th>\n",
       "      <td>15.0</td>\n",
       "      <td>8</td>\n",
       "      <td>350.0</td>\n",
       "      <td>165</td>\n",
       "      <td>3693</td>\n",
       "      <td>11.5</td>\n",
       "      <td>70</td>\n",
       "      <td>1</td>\n",
       "      <td>buick skylark 320</td>\n",
       "    </tr>\n",
       "    <tr>\n",
       "      <th>2</th>\n",
       "      <td>18.0</td>\n",
       "      <td>8</td>\n",
       "      <td>318.0</td>\n",
       "      <td>150</td>\n",
       "      <td>3436</td>\n",
       "      <td>11.0</td>\n",
       "      <td>70</td>\n",
       "      <td>1</td>\n",
       "      <td>plymouth satellite</td>\n",
       "    </tr>\n",
       "    <tr>\n",
       "      <th>3</th>\n",
       "      <td>16.0</td>\n",
       "      <td>8</td>\n",
       "      <td>304.0</td>\n",
       "      <td>150</td>\n",
       "      <td>3433</td>\n",
       "      <td>12.0</td>\n",
       "      <td>70</td>\n",
       "      <td>1</td>\n",
       "      <td>amc rebel sst</td>\n",
       "    </tr>\n",
       "    <tr>\n",
       "      <th>4</th>\n",
       "      <td>17.0</td>\n",
       "      <td>8</td>\n",
       "      <td>302.0</td>\n",
       "      <td>140</td>\n",
       "      <td>3449</td>\n",
       "      <td>10.5</td>\n",
       "      <td>70</td>\n",
       "      <td>1</td>\n",
       "      <td>ford torino</td>\n",
       "    </tr>\n",
       "  </tbody>\n",
       "</table>\n",
       "</div>"
      ],
      "text/plain": [
       "    mpg  cylinders  displacement horsepower  weight  acceleration  model year  \\\n",
       "0  18.0          8         307.0        130    3504          12.0          70   \n",
       "1  15.0          8         350.0        165    3693          11.5          70   \n",
       "2  18.0          8         318.0        150    3436          11.0          70   \n",
       "3  16.0          8         304.0        150    3433          12.0          70   \n",
       "4  17.0          8         302.0        140    3449          10.5          70   \n",
       "\n",
       "   origin                   car name  \n",
       "0       1  chevrolet chevelle malibu  \n",
       "1       1          buick skylark 320  \n",
       "2       1         plymouth satellite  \n",
       "3       1              amc rebel sst  \n",
       "4       1                ford torino  "
      ]
     },
     "execution_count": 3,
     "metadata": {},
     "output_type": "execute_result"
    }
   ],
   "source": [
    "auto.head()"
   ]
  },
  {
   "cell_type": "markdown",
   "id": "87ef3abc",
   "metadata": {
    "papermill": {
     "duration": 0.031144,
     "end_time": "2021-09-01T21:39:03.100740",
     "exception": false,
     "start_time": "2021-09-01T21:39:03.069596",
     "status": "completed"
    },
    "tags": []
   },
   "source": [
    "****amacımız mpg tahmin etmek head() ile ilk 5 gözleme bakıyoruz ****"
   ]
  },
  {
   "cell_type": "code",
   "execution_count": 4,
   "id": "9e2b57ee",
   "metadata": {
    "execution": {
     "iopub.execute_input": "2021-09-01T21:39:03.166071Z",
     "iopub.status.busy": "2021-09-01T21:39:03.165165Z",
     "iopub.status.idle": "2021-09-01T21:39:03.175422Z",
     "shell.execute_reply": "2021-09-01T21:39:03.175946Z",
     "shell.execute_reply.started": "2021-09-01T19:49:40.680698Z"
    },
    "papermill": {
     "duration": 0.044544,
     "end_time": "2021-09-01T21:39:03.176119",
     "exception": false,
     "start_time": "2021-09-01T21:39:03.131575",
     "status": "completed"
    },
    "tags": []
   },
   "outputs": [
    {
     "data": {
      "text/plain": [
       "1    249\n",
       "3     79\n",
       "2     70\n",
       "Name: origin, dtype: int64"
      ]
     },
     "execution_count": 4,
     "metadata": {},
     "output_type": "execute_result"
    }
   ],
   "source": [
    "auto.origin.value_counts()"
   ]
  },
  {
   "cell_type": "markdown",
   "id": "0714a349",
   "metadata": {
    "papermill": {
     "duration": 0.031182,
     "end_time": "2021-09-01T21:39:03.239636",
     "exception": false,
     "start_time": "2021-09-01T21:39:03.208454",
     "status": "completed"
    },
    "tags": []
   },
   "source": [
    "****origin arabaların geldikleri ülkeleri 1 2 3 diye kodlamışlar value_counts metodu değerin kaç tane olduğunu söyler örneğin  kaç tane 1 olduğuna kaç tane 2 olduğuna bakalım ****"
   ]
  },
  {
   "cell_type": "markdown",
   "id": "139eccc2",
   "metadata": {
    "papermill": {
     "duration": 0.031028,
     "end_time": "2021-09-01T21:39:03.302036",
     "exception": false,
     "start_time": "2021-09-01T21:39:03.271008",
     "status": "completed"
    },
    "tags": []
   },
   "source": [
    "****1 ülkesinde  249 tane var 2 ülkesinde 79 tane var 3 ülkesinde 70 tane var ****"
   ]
  },
  {
   "cell_type": "markdown",
   "id": "2ee295b3",
   "metadata": {
    "papermill": {
     "duration": 0.031108,
     "end_time": "2021-09-01T21:39:03.364344",
     "exception": false,
     "start_time": "2021-09-01T21:39:03.333236",
     "status": "completed"
    },
    "tags": []
   },
   "source": [
    "car name kolonuna value_counts uygulayalım\n"
   ]
  },
  {
   "cell_type": "code",
   "execution_count": 5,
   "id": "3e900e45",
   "metadata": {
    "execution": {
     "iopub.execute_input": "2021-09-01T21:39:03.430821Z",
     "iopub.status.busy": "2021-09-01T21:39:03.429788Z",
     "iopub.status.idle": "2021-09-01T21:39:03.439409Z",
     "shell.execute_reply": "2021-09-01T21:39:03.439924Z",
     "shell.execute_reply.started": "2021-09-01T19:49:43.62244Z"
    },
    "papermill": {
     "duration": 0.044644,
     "end_time": "2021-09-01T21:39:03.440106",
     "exception": false,
     "start_time": "2021-09-01T21:39:03.395462",
     "status": "completed"
    },
    "tags": []
   },
   "outputs": [
    {
     "data": {
      "text/plain": [
       "ford pinto                  6\n",
       "ford maverick               5\n",
       "toyota corolla              5\n",
       "amc matador                 5\n",
       "chevrolet impala            4\n",
       "                           ..\n",
       "volkswagen rabbit custom    1\n",
       "honda accord lx             1\n",
       "bmw 2002                    1\n",
       "ford f108                   1\n",
       "chevy c10                   1\n",
       "Name: car name, Length: 305, dtype: int64"
      ]
     },
     "execution_count": 5,
     "metadata": {},
     "output_type": "execute_result"
    }
   ],
   "source": [
    "auto[\"car name\"].value_counts()"
   ]
  },
  {
   "cell_type": "code",
   "execution_count": 6,
   "id": "0cf401d0",
   "metadata": {
    "execution": {
     "iopub.execute_input": "2021-09-01T21:39:03.507262Z",
     "iopub.status.busy": "2021-09-01T21:39:03.506283Z",
     "iopub.status.idle": "2021-09-01T21:39:03.511632Z",
     "shell.execute_reply": "2021-09-01T21:39:03.512077Z",
     "shell.execute_reply.started": "2021-09-01T19:49:47.251149Z"
    },
    "papermill": {
     "duration": 0.040654,
     "end_time": "2021-09-01T21:39:03.512254",
     "exception": false,
     "start_time": "2021-09-01T21:39:03.471600",
     "status": "completed"
    },
    "tags": []
   },
   "outputs": [
    {
     "data": {
      "text/plain": [
       "(398, 9)"
      ]
     },
     "execution_count": 6,
     "metadata": {},
     "output_type": "execute_result"
    }
   ],
   "source": [
    "auto.shape"
   ]
  },
  {
   "cell_type": "markdown",
   "id": "72eb5a4a",
   "metadata": {
    "papermill": {
     "duration": 0.03137,
     "end_time": "2021-09-01T21:39:03.575358",
     "exception": false,
     "start_time": "2021-09-01T21:39:03.543988",
     "status": "completed"
    },
    "tags": []
   },
   "source": [
    "veri setinin şekline bakalım 389 tane satır örnek var 9 tane kolon var"
   ]
  },
  {
   "cell_type": "code",
   "execution_count": 7,
   "id": "d3e78c14",
   "metadata": {
    "execution": {
     "iopub.execute_input": "2021-09-01T21:39:03.643084Z",
     "iopub.status.busy": "2021-09-01T21:39:03.642133Z",
     "iopub.status.idle": "2021-09-01T21:39:03.649059Z",
     "shell.execute_reply": "2021-09-01T21:39:03.649511Z",
     "shell.execute_reply.started": "2021-09-01T19:30:44.9249Z"
    },
    "papermill": {
     "duration": 0.042189,
     "end_time": "2021-09-01T21:39:03.649682",
     "exception": false,
     "start_time": "2021-09-01T21:39:03.607493",
     "status": "completed"
    },
    "tags": []
   },
   "outputs": [
    {
     "data": {
      "text/plain": [
       "mpg             float64\n",
       "cylinders         int64\n",
       "displacement    float64\n",
       "horsepower       object\n",
       "weight            int64\n",
       "acceleration    float64\n",
       "model year        int64\n",
       "origin            int64\n",
       "car name         object\n",
       "dtype: object"
      ]
     },
     "execution_count": 7,
     "metadata": {},
     "output_type": "execute_result"
    }
   ],
   "source": [
    "auto.dtypes\n"
   ]
  },
  {
   "cell_type": "markdown",
   "id": "8d2fe89e",
   "metadata": {
    "papermill": {
     "duration": 0.032024,
     "end_time": "2021-09-01T21:39:03.713721",
     "exception": false,
     "start_time": "2021-09-01T21:39:03.681697",
     "status": "completed"
    },
    "tags": []
   },
   "source": [
    "veri setindeki kolonların veri tiplerine bakıyoruz dtypes ile float veya int'e benzetemediği şeyi object'e atıyor object burada stringi karşılar"
   ]
  },
  {
   "cell_type": "code",
   "execution_count": 8,
   "id": "c7670a24",
   "metadata": {
    "execution": {
     "iopub.execute_input": "2021-09-01T21:39:03.781625Z",
     "iopub.status.busy": "2021-09-01T21:39:03.780668Z",
     "iopub.status.idle": "2021-09-01T21:39:03.793069Z",
     "shell.execute_reply": "2021-09-01T21:39:03.793537Z",
     "shell.execute_reply.started": "2021-09-01T19:49:50.105015Z"
    },
    "papermill": {
     "duration": 0.047976,
     "end_time": "2021-09-01T21:39:03.793711",
     "exception": false,
     "start_time": "2021-09-01T21:39:03.745735",
     "status": "completed"
    },
    "tags": []
   },
   "outputs": [
    {
     "data": {
      "text/plain": [
       "0      8\n",
       "1      8\n",
       "2      8\n",
       "3      8\n",
       "4      8\n",
       "      ..\n",
       "393    4\n",
       "394    4\n",
       "395    4\n",
       "396    4\n",
       "397    4\n",
       "Name: cylinders, Length: 398, dtype: category\n",
       "Categories (5, int64): [3, 4, 5, 6, 8]"
      ]
     },
     "execution_count": 8,
     "metadata": {},
     "output_type": "execute_result"
    }
   ],
   "source": [
    "auto.cylinders.astype(\"category\")"
   ]
  },
  {
   "cell_type": "markdown",
   "id": "4e569ff6",
   "metadata": {
    "papermill": {
     "duration": 0.032209,
     "end_time": "2021-09-01T21:39:03.858877",
     "exception": false,
     "start_time": "2021-09-01T21:39:03.826668",
     "status": "completed"
    },
    "tags": []
   },
   "source": [
    "silindir sayılarının tipi int idi biz kategoriğe çevirdik bu şekilde sınıflandırma yapabileceğiz3 silindirliler bir sınıfta 4 silindirliler bir sınıfta şeklinde "
   ]
  },
  {
   "cell_type": "code",
   "execution_count": 9,
   "id": "2aeb19ee",
   "metadata": {
    "execution": {
     "iopub.execute_input": "2021-09-01T21:39:03.928092Z",
     "iopub.status.busy": "2021-09-01T21:39:03.927084Z",
     "iopub.status.idle": "2021-09-01T21:39:03.933975Z",
     "shell.execute_reply": "2021-09-01T21:39:03.934437Z",
     "shell.execute_reply.started": "2021-09-01T19:50:50.142764Z"
    },
    "papermill": {
     "duration": 0.043087,
     "end_time": "2021-09-01T21:39:03.934616",
     "exception": false,
     "start_time": "2021-09-01T21:39:03.891529",
     "status": "completed"
    },
    "tags": []
   },
   "outputs": [
    {
     "data": {
      "text/plain": [
       "Index(['mpg', 'cylinders', 'displacement', 'horsepower', 'weight',\n",
       "       'acceleration', 'model_year', 'origin', 'car_name'],\n",
       "      dtype='object')"
      ]
     },
     "execution_count": 9,
     "metadata": {},
     "output_type": "execute_result"
    }
   ],
   "source": [
    "auto= auto.rename(columns = {\"model year\":\"model_year\",\"car name\":\"car_name\"})\n",
    "auto.columns"
   ]
  },
  {
   "cell_type": "code",
   "execution_count": 10,
   "id": "90983812",
   "metadata": {
    "execution": {
     "iopub.execute_input": "2021-09-01T21:39:04.004599Z",
     "iopub.status.busy": "2021-09-01T21:39:04.003631Z",
     "iopub.status.idle": "2021-09-01T21:39:04.013140Z",
     "shell.execute_reply": "2021-09-01T21:39:04.012637Z",
     "shell.execute_reply.started": "2021-09-01T19:51:56.721663Z"
    },
    "papermill": {
     "duration": 0.045531,
     "end_time": "2021-09-01T21:39:04.013279",
     "exception": false,
     "start_time": "2021-09-01T21:39:03.967748",
     "status": "completed"
    },
    "tags": []
   },
   "outputs": [
    {
     "data": {
      "text/plain": [
       "mpg             False\n",
       "cylinders       False\n",
       "displacement    False\n",
       "horsepower      False\n",
       "weight          False\n",
       "acceleration    False\n",
       "model_year      False\n",
       "origin          False\n",
       "car_name        False\n",
       "dtype: bool"
      ]
     },
     "execution_count": 10,
     "metadata": {},
     "output_type": "execute_result"
    }
   ],
   "source": [
    "auto.isnull().any()"
   ]
  },
  {
   "cell_type": "markdown",
   "id": "dd9d81ff",
   "metadata": {
    "papermill": {
     "duration": 0.032803,
     "end_time": "2021-09-01T21:39:04.079409",
     "exception": false,
     "start_time": "2021-09-01T21:39:04.046606",
     "status": "completed"
    },
    "tags": []
   },
   "source": [
    "eksik değer hiç var mı diye soruyoruz isnull null var mı any hiç kayıp gözlemi öğreniyoruz \n"
   ]
  },
  {
   "cell_type": "code",
   "execution_count": 11,
   "id": "716fc6f5",
   "metadata": {
    "execution": {
     "iopub.execute_input": "2021-09-01T21:39:04.152969Z",
     "iopub.status.busy": "2021-09-01T21:39:04.152168Z",
     "iopub.status.idle": "2021-09-01T21:39:05.406297Z",
     "shell.execute_reply": "2021-09-01T21:39:05.405637Z",
     "shell.execute_reply.started": "2021-09-01T19:57:42.284437Z"
    },
    "papermill": {
     "duration": 1.29391,
     "end_time": "2021-09-01T21:39:05.406455",
     "exception": false,
     "start_time": "2021-09-01T21:39:04.112545",
     "status": "completed"
    },
    "tags": []
   },
   "outputs": [
    {
     "data": {
      "image/png": "[encoded data removed]",
      "text/plain": [
       "<Figure size 432x288 with 2 Axes>"
      ]
     },
     "metadata": {
      "needs_background": "light"
     },
     "output_type": "display_data"
    }
   ],
   "source": [
    "import seaborn as sns \n",
    "import matplotlib.pyplot as plt\n",
    "sns.set_palette(\"RdBu\")\n",
    "correlation=auto.corr()\n",
    "sns.heatmap(correlation)\n",
    "plt.show()"
   ]
  },
  {
   "cell_type": "markdown",
   "id": "1132a707",
   "metadata": {
    "papermill": {
     "duration": 0.034825,
     "end_time": "2021-09-01T21:39:05.475662",
     "exception": false,
     "start_time": "2021-09-01T21:39:05.440837",
     "status": "completed"
    },
    "tags": []
   },
   "source": [
    "korelasyonu görselleştirdik \n",
    "sağ tarafta bir ölçek var en üstteki 1 en yüksek korelasyon demek siyahlar ise korelasyonu en düşük olanlardır\n",
    "kesişimlerine bakıyoruz örneğin hız ile ağırlık ilişkisi"
   ]
  },
  {
   "cell_type": "code",
   "execution_count": 12,
   "id": "a69ea5c2",
   "metadata": {
    "execution": {
     "iopub.execute_input": "2021-09-01T21:39:05.548376Z",
     "iopub.status.busy": "2021-09-01T21:39:05.547758Z",
     "iopub.status.idle": "2021-09-01T21:39:05.564357Z",
     "shell.execute_reply": "2021-09-01T21:39:05.564872Z",
     "shell.execute_reply.started": "2021-09-01T20:00:33.713287Z"
    },
    "papermill": {
     "duration": 0.054568,
     "end_time": "2021-09-01T21:39:05.565039",
     "exception": false,
     "start_time": "2021-09-01T21:39:05.510471",
     "status": "completed"
    },
    "tags": []
   },
   "outputs": [
    {
     "name": "stdout",
     "output_type": "stream",
     "text": [
      "<class 'pandas.core.frame.DataFrame'>\n",
      "RangeIndex: 398 entries, 0 to 397\n",
      "Data columns (total 9 columns):\n",
      " #   Column        Non-Null Count  Dtype  \n",
      "---  ------        --------------  -----  \n",
      " 0   mpg           398 non-null    float64\n",
      " 1   cylinders     398 non-null    int64  \n",
      " 2   displacement  398 non-null    float64\n",
      " 3   horsepower    398 non-null    object \n",
      " 4   weight        398 non-null    int64  \n",
      " 5   acceleration  398 non-null    float64\n",
      " 6   model_year    398 non-null    int64  \n",
      " 7   origin        398 non-null    int64  \n",
      " 8   car_name      398 non-null    object \n",
      "dtypes: float64(3), int64(4), object(2)\n",
      "memory usage: 28.1+ KB\n"
     ]
    }
   ],
   "source": [
    "auto.info()"
   ]
  },
  {
   "cell_type": "markdown",
   "id": "d60051d0",
   "metadata": {
    "papermill": {
     "duration": 0.034536,
     "end_time": "2021-09-01T21:39:05.634488",
     "exception": false,
     "start_time": "2021-09-01T21:39:05.599952",
     "status": "completed"
    },
    "tags": []
   },
   "source": [
    "veri seti hakkında daha detaylı  bilgi veriyor "
   ]
  },
  {
   "cell_type": "markdown",
   "id": "313a1751",
   "metadata": {
    "papermill": {
     "duration": 0.034494,
     "end_time": "2021-09-01T21:39:05.703750",
     "exception": false,
     "start_time": "2021-09-01T21:39:05.669256",
     "status": "completed"
    },
    "tags": []
   },
   "source": [
    "****Kategorik değişkenleri encoding uygulayacağız yani yani 1 000 01000 00100 gibi geçtiği satırı belirli bir sayıya çevireceğiz ****"
   ]
  },
  {
   "cell_type": "raw",
   "id": "47b3a312",
   "metadata": {
    "papermill": {
     "duration": 0.034439,
     "end_time": "2021-09-01T21:39:05.772937",
     "exception": false,
     "start_time": "2021-09-01T21:39:05.738498",
     "status": "completed"
    },
    "tags": []
   },
   "source": []
  },
  {
   "cell_type": "code",
   "execution_count": 13,
   "id": "1f7f4ef2",
   "metadata": {
    "execution": {
     "iopub.execute_input": "2021-09-01T21:39:05.845213Z",
     "iopub.status.busy": "2021-09-01T21:39:05.844455Z",
     "iopub.status.idle": "2021-09-01T21:39:05.997757Z",
     "shell.execute_reply": "2021-09-01T21:39:05.997187Z",
     "shell.execute_reply.started": "2021-09-01T20:06:39.100055Z"
    },
    "papermill": {
     "duration": 0.190383,
     "end_time": "2021-09-01T21:39:05.997896",
     "exception": false,
     "start_time": "2021-09-01T21:39:05.807513",
     "status": "completed"
    },
    "tags": []
   },
   "outputs": [
    {
     "name": "stderr",
     "output_type": "stream",
     "text": [
      "/opt/conda/lib/python3.7/site-packages/sklearn/utils/validation.py:72: DataConversionWarning: A column-vector y was passed when a 1d array was expected. Please change the shape of y to (n_samples, ), for example using ravel().\n",
      "  return f(**kwargs)\n"
     ]
    },
    {
     "data": {
      "text/html": [
       "<div>\n",
       "<style scoped>\n",
       "    .dataframe tbody tr th:only-of-type {\n",
       "        vertical-align: middle;\n",
       "    }\n",
       "\n",
       "    .dataframe tbody tr th {\n",
       "        vertical-align: top;\n",
       "    }\n",
       "\n",
       "    .dataframe thead th {\n",
       "        text-align: right;\n",
       "    }\n",
       "</style>\n",
       "<table border=\"1\" class=\"dataframe\">\n",
       "  <thead>\n",
       "    <tr style=\"text-align: right;\">\n",
       "      <th></th>\n",
       "      <th>car_name_encoded</th>\n",
       "    </tr>\n",
       "  </thead>\n",
       "  <tbody>\n",
       "    <tr>\n",
       "      <th>0</th>\n",
       "      <td>49</td>\n",
       "    </tr>\n",
       "    <tr>\n",
       "      <th>1</th>\n",
       "      <td>36</td>\n",
       "    </tr>\n",
       "    <tr>\n",
       "      <th>2</th>\n",
       "      <td>231</td>\n",
       "    </tr>\n",
       "    <tr>\n",
       "      <th>3</th>\n",
       "      <td>14</td>\n",
       "    </tr>\n",
       "    <tr>\n",
       "      <th>4</th>\n",
       "      <td>161</td>\n",
       "    </tr>\n",
       "    <tr>\n",
       "      <th>...</th>\n",
       "      <td>...</td>\n",
       "    </tr>\n",
       "    <tr>\n",
       "      <th>393</th>\n",
       "      <td>153</td>\n",
       "    </tr>\n",
       "    <tr>\n",
       "      <th>394</th>\n",
       "      <td>301</td>\n",
       "    </tr>\n",
       "    <tr>\n",
       "      <th>395</th>\n",
       "      <td>119</td>\n",
       "    </tr>\n",
       "    <tr>\n",
       "      <th>396</th>\n",
       "      <td>159</td>\n",
       "    </tr>\n",
       "    <tr>\n",
       "      <th>397</th>\n",
       "      <td>69</td>\n",
       "    </tr>\n",
       "  </tbody>\n",
       "</table>\n",
       "<p>398 rows × 1 columns</p>\n",
       "</div>"
      ],
      "text/plain": [
       "     car_name_encoded\n",
       "0                  49\n",
       "1                  36\n",
       "2                 231\n",
       "3                  14\n",
       "4                 161\n",
       "..                ...\n",
       "393               153\n",
       "394               301\n",
       "395               119\n",
       "396               159\n",
       "397                69\n",
       "\n",
       "[398 rows x 1 columns]"
      ]
     },
     "execution_count": 13,
     "metadata": {},
     "output_type": "execute_result"
    }
   ],
   "source": [
    "from sklearn.preprocessing import LabelEncoder\n",
    "le=LabelEncoder()\n",
    "car_name_le = pd.DataFrame(le.fit_transform(auto[[\"car_name\"]]),columns=[\"car_name_encoded\"])\n",
    "car_name_le\n"
   ]
  },
  {
   "cell_type": "markdown",
   "id": "64fefa18",
   "metadata": {
    "papermill": {
     "duration": 0.034877,
     "end_time": "2021-09-01T21:39:06.069091",
     "exception": false,
     "start_time": "2021-09-01T21:39:06.034214",
     "status": "completed"
    },
    "tags": []
   },
   "source": [
    "algoritmaya veriyi sokarken bazı önişlemelerden geçirmemiz gerekiyor\n",
    "nümerik verileri ölçeklendirmeliyiz 0 -1 arasına \n",
    "kategorik bir verimiz varsa bunu da encoding etmemiz gerekir \n",
    "label encoder şunu yapıyor 1 gördüğüne 1 2 gördüğüne 2 aynı gördüğüne tekrar 1 şeklinde bir sayı vererek gidiyor bu şekilde kategorik verinin bir anlamı oluyor bunları kategorize ediyor aslında \n",
    "LabelEncoder Sklearn'nin Preprocessing kütüphanesine ait bir class o yüzden oradan import ettik \n",
    "ardından le adında LabelEncoder nesnesi oluşturduk \n",
    "fit metodu bu nesneyi bizim veri setimize uyduruyor \n",
    "fit dediğimiz zaman hangisine 1 2 diyeceğini belirliyor kendisi obje kural belirliyor transfor da veri setine belirlenmiş kuralı uyguluyor \n",
    "peki bunları yapmasak veri kategorik olarak kalsa lineer regresyon gibi makine öğrenmesi modellerine kategorik veri veremezsiniz herşey nümerik olmalı \n",
    "fit etme işlemini bir kere yapabiliyoruz \n"
   ]
  },
  {
   "cell_type": "code",
   "execution_count": 14,
   "id": "4c559574",
   "metadata": {
    "execution": {
     "iopub.execute_input": "2021-09-01T21:39:06.146664Z",
     "iopub.status.busy": "2021-09-01T21:39:06.145958Z",
     "iopub.status.idle": "2021-09-01T21:39:06.177035Z",
     "shell.execute_reply": "2021-09-01T21:39:06.177631Z",
     "shell.execute_reply.started": "2021-09-01T20:34:50.45956Z"
    },
    "papermill": {
     "duration": 0.073436,
     "end_time": "2021-09-01T21:39:06.177804",
     "exception": false,
     "start_time": "2021-09-01T21:39:06.104368",
     "status": "completed"
    },
    "tags": []
   },
   "outputs": [
    {
     "name": "stdout",
     "output_type": "stream",
     "text": [
      "     0     1     2     3     4     5     6     7     8     9     ...  1067  \\\n",
      "0     0.0   0.0   0.0   0.0   0.0   0.0   0.0   0.0   0.0   0.0  ...   0.0   \n",
      "1     0.0   0.0   0.0   0.0   0.0   0.0   0.0   1.0   0.0   0.0  ...   0.0   \n",
      "2     0.0   0.0   0.0   0.0   0.0   0.0   0.0   0.0   0.0   0.0  ...   0.0   \n",
      "3     0.0   0.0   0.0   0.0   0.0   0.0   0.0   0.0   0.0   1.0  ...   0.0   \n",
      "4     0.0   0.0   0.0   0.0   0.0   0.0   0.0   0.0   0.0   0.0  ...   0.0   \n",
      "..    ...   ...   ...   ...   ...   ...   ...   ...   ...   ...  ...   ...   \n",
      "393   0.0   0.0   0.0   0.0   0.0   0.0   0.0   0.0   0.0   0.0  ...   0.0   \n",
      "394   0.0   0.0   0.0   0.0   0.0   0.0   0.0   0.0   0.0   0.0  ...   0.0   \n",
      "395   0.0   0.0   0.0   0.0   0.0   0.0   0.0   0.0   0.0   0.0  ...   0.0   \n",
      "396   0.0   0.0   0.0   0.0   0.0   0.0   0.0   0.0   0.0   0.0  ...   0.0   \n",
      "397   0.0   0.0   0.0   0.0   0.0   0.0   0.0   0.0   0.0   0.0  ...   0.0   \n",
      "\n",
      "     1068  1069  1070  1071  1072  1073  1074  1075  1076  \n",
      "0     0.0   0.0   0.0   0.0   0.0   0.0   0.0   0.0   0.0  \n",
      "1     0.0   0.0   0.0   0.0   0.0   0.0   0.0   0.0   0.0  \n",
      "2     0.0   0.0   0.0   0.0   0.0   0.0   0.0   0.0   0.0  \n",
      "3     0.0   0.0   0.0   0.0   0.0   0.0   0.0   0.0   0.0  \n",
      "4     0.0   0.0   0.0   0.0   0.0   0.0   0.0   0.0   0.0  \n",
      "..    ...   ...   ...   ...   ...   ...   ...   ...   ...  \n",
      "393   0.0   0.0   0.0   0.0   0.0   0.0   0.0   0.0   0.0  \n",
      "394   0.0   0.0   0.0   0.0   0.0   1.0   0.0   0.0   0.0  \n",
      "395   0.0   0.0   0.0   0.0   0.0   0.0   0.0   0.0   0.0  \n",
      "396   0.0   0.0   0.0   0.0   0.0   0.0   0.0   0.0   0.0  \n",
      "397   0.0   0.0   0.0   0.0   0.0   0.0   0.0   0.0   0.0  \n",
      "\n",
      "[398 rows x 1077 columns]\n"
     ]
    }
   ],
   "source": [
    "from sklearn.preprocessing import OneHotEncoder \n",
    "ohe = OneHotEncoder(handle_unknown=\"ignore\")\n",
    "car_name_ohe = ohe.fit_transform(auto)\n",
    "car_name_ohe_df = pd.DataFrame(data=car_name_ohe.toarray())\n",
    "print(car_name_ohe_df)"
   ]
  },
  {
   "cell_type": "markdown",
   "id": "d6a72a71",
   "metadata": {
    "papermill": {
     "duration": 0.037856,
     "end_time": "2021-09-01T21:39:06.251951",
     "exception": false,
     "start_time": "2021-09-01T21:39:06.214095",
     "status": "completed"
    },
    "tags": []
   },
   "source": [
    "2.encoding yöntemi ohe hot encoding yöntemi hepsi eşit ilişki de ise kullanılır her satırda o kategoride değer gelirse ona 1 veriyor 1000 0100 0010 0001 gibi geçtiği satırı 1 diğerlerini sıfır yapıyor \n"
   ]
  },
  {
   "cell_type": "code",
   "execution_count": 15,
   "id": "3b6214d1",
   "metadata": {
    "execution": {
     "iopub.execute_input": "2021-09-01T21:39:06.326989Z",
     "iopub.status.busy": "2021-09-01T21:39:06.326199Z",
     "iopub.status.idle": "2021-09-01T21:39:06.372597Z",
     "shell.execute_reply": "2021-09-01T21:39:06.372047Z",
     "shell.execute_reply.started": "2021-09-01T20:47:42.449508Z"
    },
    "papermill": {
     "duration": 0.084918,
     "end_time": "2021-09-01T21:39:06.372749",
     "exception": false,
     "start_time": "2021-09-01T21:39:06.287831",
     "status": "completed"
    },
    "tags": []
   },
   "outputs": [
    {
     "data": {
      "text/html": [
       "<div>\n",
       "<style scoped>\n",
       "    .dataframe tbody tr th:only-of-type {\n",
       "        vertical-align: middle;\n",
       "    }\n",
       "\n",
       "    .dataframe tbody tr th {\n",
       "        vertical-align: top;\n",
       "    }\n",
       "\n",
       "    .dataframe thead th {\n",
       "        text-align: right;\n",
       "    }\n",
       "</style>\n",
       "<table border=\"1\" class=\"dataframe\">\n",
       "  <thead>\n",
       "    <tr style=\"text-align: right;\">\n",
       "      <th></th>\n",
       "      <th>mpg</th>\n",
       "      <th>cylinders</th>\n",
       "      <th>displacement</th>\n",
       "      <th>horsepower</th>\n",
       "      <th>weight</th>\n",
       "      <th>acceleration</th>\n",
       "      <th>model_year</th>\n",
       "      <th>origin</th>\n",
       "      <th>car_name</th>\n",
       "      <th>model_amc ambassador brougham</th>\n",
       "      <th>...</th>\n",
       "      <th>model_volvo 145e (sw)</th>\n",
       "      <th>model_volvo 244dl</th>\n",
       "      <th>model_volvo 245</th>\n",
       "      <th>model_volvo 264gl</th>\n",
       "      <th>model_volvo diesel</th>\n",
       "      <th>model_vw dasher (diesel)</th>\n",
       "      <th>model_vw pickup</th>\n",
       "      <th>model_vw rabbit</th>\n",
       "      <th>model_vw rabbit c (diesel)</th>\n",
       "      <th>model_vw rabbit custom</th>\n",
       "    </tr>\n",
       "  </thead>\n",
       "  <tbody>\n",
       "    <tr>\n",
       "      <th>0</th>\n",
       "      <td>18.0</td>\n",
       "      <td>8</td>\n",
       "      <td>307.0</td>\n",
       "      <td>130</td>\n",
       "      <td>3504</td>\n",
       "      <td>12.0</td>\n",
       "      <td>70</td>\n",
       "      <td>1</td>\n",
       "      <td>chevrolet chevelle malibu</td>\n",
       "      <td>0</td>\n",
       "      <td>...</td>\n",
       "      <td>0</td>\n",
       "      <td>0</td>\n",
       "      <td>0</td>\n",
       "      <td>0</td>\n",
       "      <td>0</td>\n",
       "      <td>0</td>\n",
       "      <td>0</td>\n",
       "      <td>0</td>\n",
       "      <td>0</td>\n",
       "      <td>0</td>\n",
       "    </tr>\n",
       "    <tr>\n",
       "      <th>1</th>\n",
       "      <td>15.0</td>\n",
       "      <td>8</td>\n",
       "      <td>350.0</td>\n",
       "      <td>165</td>\n",
       "      <td>3693</td>\n",
       "      <td>11.5</td>\n",
       "      <td>70</td>\n",
       "      <td>1</td>\n",
       "      <td>buick skylark 320</td>\n",
       "      <td>0</td>\n",
       "      <td>...</td>\n",
       "      <td>0</td>\n",
       "      <td>0</td>\n",
       "      <td>0</td>\n",
       "      <td>0</td>\n",
       "      <td>0</td>\n",
       "      <td>0</td>\n",
       "      <td>0</td>\n",
       "      <td>0</td>\n",
       "      <td>0</td>\n",
       "      <td>0</td>\n",
       "    </tr>\n",
       "    <tr>\n",
       "      <th>2</th>\n",
       "      <td>18.0</td>\n",
       "      <td>8</td>\n",
       "      <td>318.0</td>\n",
       "      <td>150</td>\n",
       "      <td>3436</td>\n",
       "      <td>11.0</td>\n",
       "      <td>70</td>\n",
       "      <td>1</td>\n",
       "      <td>plymouth satellite</td>\n",
       "      <td>0</td>\n",
       "      <td>...</td>\n",
       "      <td>0</td>\n",
       "      <td>0</td>\n",
       "      <td>0</td>\n",
       "      <td>0</td>\n",
       "      <td>0</td>\n",
       "      <td>0</td>\n",
       "      <td>0</td>\n",
       "      <td>0</td>\n",
       "      <td>0</td>\n",
       "      <td>0</td>\n",
       "    </tr>\n",
       "    <tr>\n",
       "      <th>3</th>\n",
       "      <td>16.0</td>\n",
       "      <td>8</td>\n",
       "      <td>304.0</td>\n",
       "      <td>150</td>\n",
       "      <td>3433</td>\n",
       "      <td>12.0</td>\n",
       "      <td>70</td>\n",
       "      <td>1</td>\n",
       "      <td>amc rebel sst</td>\n",
       "      <td>0</td>\n",
       "      <td>...</td>\n",
       "      <td>0</td>\n",
       "      <td>0</td>\n",
       "      <td>0</td>\n",
       "      <td>0</td>\n",
       "      <td>0</td>\n",
       "      <td>0</td>\n",
       "      <td>0</td>\n",
       "      <td>0</td>\n",
       "      <td>0</td>\n",
       "      <td>0</td>\n",
       "    </tr>\n",
       "    <tr>\n",
       "      <th>4</th>\n",
       "      <td>17.0</td>\n",
       "      <td>8</td>\n",
       "      <td>302.0</td>\n",
       "      <td>140</td>\n",
       "      <td>3449</td>\n",
       "      <td>10.5</td>\n",
       "      <td>70</td>\n",
       "      <td>1</td>\n",
       "      <td>ford torino</td>\n",
       "      <td>0</td>\n",
       "      <td>...</td>\n",
       "      <td>0</td>\n",
       "      <td>0</td>\n",
       "      <td>0</td>\n",
       "      <td>0</td>\n",
       "      <td>0</td>\n",
       "      <td>0</td>\n",
       "      <td>0</td>\n",
       "      <td>0</td>\n",
       "      <td>0</td>\n",
       "      <td>0</td>\n",
       "    </tr>\n",
       "    <tr>\n",
       "      <th>...</th>\n",
       "      <td>...</td>\n",
       "      <td>...</td>\n",
       "      <td>...</td>\n",
       "      <td>...</td>\n",
       "      <td>...</td>\n",
       "      <td>...</td>\n",
       "      <td>...</td>\n",
       "      <td>...</td>\n",
       "      <td>...</td>\n",
       "      <td>...</td>\n",
       "      <td>...</td>\n",
       "      <td>...</td>\n",
       "      <td>...</td>\n",
       "      <td>...</td>\n",
       "      <td>...</td>\n",
       "      <td>...</td>\n",
       "      <td>...</td>\n",
       "      <td>...</td>\n",
       "      <td>...</td>\n",
       "      <td>...</td>\n",
       "      <td>...</td>\n",
       "    </tr>\n",
       "    <tr>\n",
       "      <th>393</th>\n",
       "      <td>27.0</td>\n",
       "      <td>4</td>\n",
       "      <td>140.0</td>\n",
       "      <td>86</td>\n",
       "      <td>2790</td>\n",
       "      <td>15.6</td>\n",
       "      <td>82</td>\n",
       "      <td>1</td>\n",
       "      <td>ford mustang gl</td>\n",
       "      <td>0</td>\n",
       "      <td>...</td>\n",
       "      <td>0</td>\n",
       "      <td>0</td>\n",
       "      <td>0</td>\n",
       "      <td>0</td>\n",
       "      <td>0</td>\n",
       "      <td>0</td>\n",
       "      <td>0</td>\n",
       "      <td>0</td>\n",
       "      <td>0</td>\n",
       "      <td>0</td>\n",
       "    </tr>\n",
       "    <tr>\n",
       "      <th>394</th>\n",
       "      <td>44.0</td>\n",
       "      <td>4</td>\n",
       "      <td>97.0</td>\n",
       "      <td>52</td>\n",
       "      <td>2130</td>\n",
       "      <td>24.6</td>\n",
       "      <td>82</td>\n",
       "      <td>2</td>\n",
       "      <td>vw pickup</td>\n",
       "      <td>0</td>\n",
       "      <td>...</td>\n",
       "      <td>0</td>\n",
       "      <td>0</td>\n",
       "      <td>0</td>\n",
       "      <td>0</td>\n",
       "      <td>0</td>\n",
       "      <td>0</td>\n",
       "      <td>1</td>\n",
       "      <td>0</td>\n",
       "      <td>0</td>\n",
       "      <td>0</td>\n",
       "    </tr>\n",
       "    <tr>\n",
       "      <th>395</th>\n",
       "      <td>32.0</td>\n",
       "      <td>4</td>\n",
       "      <td>135.0</td>\n",
       "      <td>84</td>\n",
       "      <td>2295</td>\n",
       "      <td>11.6</td>\n",
       "      <td>82</td>\n",
       "      <td>1</td>\n",
       "      <td>dodge rampage</td>\n",
       "      <td>0</td>\n",
       "      <td>...</td>\n",
       "      <td>0</td>\n",
       "      <td>0</td>\n",
       "      <td>0</td>\n",
       "      <td>0</td>\n",
       "      <td>0</td>\n",
       "      <td>0</td>\n",
       "      <td>0</td>\n",
       "      <td>0</td>\n",
       "      <td>0</td>\n",
       "      <td>0</td>\n",
       "    </tr>\n",
       "    <tr>\n",
       "      <th>396</th>\n",
       "      <td>28.0</td>\n",
       "      <td>4</td>\n",
       "      <td>120.0</td>\n",
       "      <td>79</td>\n",
       "      <td>2625</td>\n",
       "      <td>18.6</td>\n",
       "      <td>82</td>\n",
       "      <td>1</td>\n",
       "      <td>ford ranger</td>\n",
       "      <td>0</td>\n",
       "      <td>...</td>\n",
       "      <td>0</td>\n",
       "      <td>0</td>\n",
       "      <td>0</td>\n",
       "      <td>0</td>\n",
       "      <td>0</td>\n",
       "      <td>0</td>\n",
       "      <td>0</td>\n",
       "      <td>0</td>\n",
       "      <td>0</td>\n",
       "      <td>0</td>\n",
       "    </tr>\n",
       "    <tr>\n",
       "      <th>397</th>\n",
       "      <td>31.0</td>\n",
       "      <td>4</td>\n",
       "      <td>119.0</td>\n",
       "      <td>82</td>\n",
       "      <td>2720</td>\n",
       "      <td>19.4</td>\n",
       "      <td>82</td>\n",
       "      <td>1</td>\n",
       "      <td>chevy s-10</td>\n",
       "      <td>0</td>\n",
       "      <td>...</td>\n",
       "      <td>0</td>\n",
       "      <td>0</td>\n",
       "      <td>0</td>\n",
       "      <td>0</td>\n",
       "      <td>0</td>\n",
       "      <td>0</td>\n",
       "      <td>0</td>\n",
       "      <td>0</td>\n",
       "      <td>0</td>\n",
       "      <td>0</td>\n",
       "    </tr>\n",
       "  </tbody>\n",
       "</table>\n",
       "<p>398 rows × 314 columns</p>\n",
       "</div>"
      ],
      "text/plain": [
       "      mpg  cylinders  displacement horsepower  weight  acceleration  \\\n",
       "0    18.0          8         307.0        130    3504          12.0   \n",
       "1    15.0          8         350.0        165    3693          11.5   \n",
       "2    18.0          8         318.0        150    3436          11.0   \n",
       "3    16.0          8         304.0        150    3433          12.0   \n",
       "4    17.0          8         302.0        140    3449          10.5   \n",
       "..    ...        ...           ...        ...     ...           ...   \n",
       "393  27.0          4         140.0         86    2790          15.6   \n",
       "394  44.0          4          97.0         52    2130          24.6   \n",
       "395  32.0          4         135.0         84    2295          11.6   \n",
       "396  28.0          4         120.0         79    2625          18.6   \n",
       "397  31.0          4         119.0         82    2720          19.4   \n",
       "\n",
       "     model_year  origin                   car_name  \\\n",
       "0            70       1  chevrolet chevelle malibu   \n",
       "1            70       1          buick skylark 320   \n",
       "2            70       1         plymouth satellite   \n",
       "3            70       1              amc rebel sst   \n",
       "4            70       1                ford torino   \n",
       "..          ...     ...                        ...   \n",
       "393          82       1            ford mustang gl   \n",
       "394          82       2                  vw pickup   \n",
       "395          82       1              dodge rampage   \n",
       "396          82       1                ford ranger   \n",
       "397          82       1                 chevy s-10   \n",
       "\n",
       "     model_amc ambassador brougham  ...  model_volvo 145e (sw)  \\\n",
       "0                                0  ...                      0   \n",
       "1                                0  ...                      0   \n",
       "2                                0  ...                      0   \n",
       "3                                0  ...                      0   \n",
       "4                                0  ...                      0   \n",
       "..                             ...  ...                    ...   \n",
       "393                              0  ...                      0   \n",
       "394                              0  ...                      0   \n",
       "395                              0  ...                      0   \n",
       "396                              0  ...                      0   \n",
       "397                              0  ...                      0   \n",
       "\n",
       "     model_volvo 244dl  model_volvo 245  model_volvo 264gl  \\\n",
       "0                    0                0                  0   \n",
       "1                    0                0                  0   \n",
       "2                    0                0                  0   \n",
       "3                    0                0                  0   \n",
       "4                    0                0                  0   \n",
       "..                 ...              ...                ...   \n",
       "393                  0                0                  0   \n",
       "394                  0                0                  0   \n",
       "395                  0                0                  0   \n",
       "396                  0                0                  0   \n",
       "397                  0                0                  0   \n",
       "\n",
       "     model_volvo diesel  model_vw dasher (diesel)  model_vw pickup  \\\n",
       "0                     0                         0                0   \n",
       "1                     0                         0                0   \n",
       "2                     0                         0                0   \n",
       "3                     0                         0                0   \n",
       "4                     0                         0                0   \n",
       "..                  ...                       ...              ...   \n",
       "393                   0                         0                0   \n",
       "394                   0                         0                1   \n",
       "395                   0                         0                0   \n",
       "396                   0                         0                0   \n",
       "397                   0                         0                0   \n",
       "\n",
       "     model_vw rabbit  model_vw rabbit c (diesel)  model_vw rabbit custom  \n",
       "0                  0                           0                       0  \n",
       "1                  0                           0                       0  \n",
       "2                  0                           0                       0  \n",
       "3                  0                           0                       0  \n",
       "4                  0                           0                       0  \n",
       "..               ...                         ...                     ...  \n",
       "393                0                           0                       0  \n",
       "394                0                           0                       0  \n",
       "395                0                           0                       0  \n",
       "396                0                           0                       0  \n",
       "397                0                           0                       0  \n",
       "\n",
       "[398 rows x 314 columns]"
      ]
     },
     "execution_count": 15,
     "metadata": {},
     "output_type": "execute_result"
    }
   ],
   "source": [
    "car_name_df = pd.concat([auto,pd.get_dummies(auto[\"car_name\"] , prefix=\"model\")],axis=1)\n",
    "car_name_df"
   ]
  },
  {
   "cell_type": "markdown",
   "id": "4dc5d46f",
   "metadata": {
    "papermill": {
     "duration": 0.036839,
     "end_time": "2021-09-01T21:39:06.447465",
     "exception": false,
     "start_time": "2021-09-01T21:39:06.410626",
     "status": "completed"
    },
    "tags": []
   },
   "source": [
    "veriyi yine 1 0 haline onehot encoding haline getiriyor yeni kolonlar oluşturuyor 0 1 lerden oluşan başına model_ koyuyor sonra modelin ismi oluyor \n",
    "burada ana auto verisi ile birleştirmiştir"
   ]
  },
  {
   "cell_type": "code",
   "execution_count": 16,
   "id": "ad3cf0b2",
   "metadata": {
    "execution": {
     "iopub.execute_input": "2021-09-01T21:39:06.528099Z",
     "iopub.status.busy": "2021-09-01T21:39:06.527457Z",
     "iopub.status.idle": "2021-09-01T21:39:06.529262Z",
     "shell.execute_reply": "2021-09-01T21:39:06.529762Z",
     "shell.execute_reply.started": "2021-09-01T20:53:13.515224Z"
    },
    "papermill": {
     "duration": 0.045318,
     "end_time": "2021-09-01T21:39:06.529940",
     "exception": false,
     "start_time": "2021-09-01T21:39:06.484622",
     "status": "completed"
    },
    "tags": []
   },
   "outputs": [],
   "source": [
    "auto= auto.drop(columns={\"car_name\"})"
   ]
  },
  {
   "cell_type": "markdown",
   "id": "f10ca48b",
   "metadata": {
    "papermill": {
     "duration": 0.03681,
     "end_time": "2021-09-01T21:39:06.603636",
     "exception": false,
     "start_time": "2021-09-01T21:39:06.566826",
     "status": "completed"
    },
    "tags": []
   },
   "source": [
    "car_nameye ihtiyaç kalmadı silebiliriz"
   ]
  },
  {
   "cell_type": "code",
   "execution_count": 17,
   "id": "5a973ca7",
   "metadata": {
    "execution": {
     "iopub.execute_input": "2021-09-01T21:39:06.680929Z",
     "iopub.status.busy": "2021-09-01T21:39:06.680219Z",
     "iopub.status.idle": "2021-09-01T21:39:06.685848Z",
     "shell.execute_reply": "2021-09-01T21:39:06.686329Z",
     "shell.execute_reply.started": "2021-09-01T20:53:39.821541Z"
    },
    "papermill": {
     "duration": 0.04584,
     "end_time": "2021-09-01T21:39:06.686524",
     "exception": false,
     "start_time": "2021-09-01T21:39:06.640684",
     "status": "completed"
    },
    "tags": []
   },
   "outputs": [
    {
     "data": {
      "text/plain": [
       "(398, 8)"
      ]
     },
     "execution_count": 17,
     "metadata": {},
     "output_type": "execute_result"
    }
   ],
   "source": [
    "auto.shape"
   ]
  },
  {
   "cell_type": "markdown",
   "id": "513ba3cb",
   "metadata": {
    "papermill": {
     "duration": 0.036383,
     "end_time": "2021-09-01T21:39:06.759877",
     "exception": false,
     "start_time": "2021-09-01T21:39:06.723494",
     "status": "completed"
    },
    "tags": []
   },
   "source": [
    "****MİNMAX SCALER****"
   ]
  },
  {
   "cell_type": "code",
   "execution_count": 18,
   "id": "a3e725fd",
   "metadata": {
    "execution": {
     "iopub.execute_input": "2021-09-01T21:39:06.837248Z",
     "iopub.status.busy": "2021-09-01T21:39:06.836275Z",
     "iopub.status.idle": "2021-09-01T21:39:06.842059Z",
     "shell.execute_reply": "2021-09-01T21:39:06.842563Z",
     "shell.execute_reply.started": "2021-09-01T21:05:06.004381Z"
    },
    "papermill": {
     "duration": 0.046004,
     "end_time": "2021-09-01T21:39:06.842727",
     "exception": false,
     "start_time": "2021-09-01T21:39:06.796723",
     "status": "completed"
    },
    "tags": []
   },
   "outputs": [],
   "source": [
    "auto.horsepower=auto.horsepower.replace(\"?\",\"165\")\n",
    "auto.horsepower = auto.horsepower.astype(\"int\")"
   ]
  },
  {
   "cell_type": "code",
   "execution_count": null,
   "id": "868a5ec1",
   "metadata": {
    "papermill": {
     "duration": 0.036565,
     "end_time": "2021-09-01T21:39:06.916343",
     "exception": false,
     "start_time": "2021-09-01T21:39:06.879778",
     "status": "completed"
    },
    "tags": []
   },
   "outputs": [],
   "source": []
  },
  {
   "cell_type": "code",
   "execution_count": 19,
   "id": "ecb0e31a",
   "metadata": {
    "execution": {
     "iopub.execute_input": "2021-09-01T21:39:06.993569Z",
     "iopub.status.busy": "2021-09-01T21:39:06.992525Z",
     "iopub.status.idle": "2021-09-01T21:39:07.003845Z",
     "shell.execute_reply": "2021-09-01T21:39:07.003331Z",
     "shell.execute_reply.started": "2021-09-01T21:05:10.1334Z"
    },
    "papermill": {
     "duration": 0.050981,
     "end_time": "2021-09-01T21:39:07.003984",
     "exception": false,
     "start_time": "2021-09-01T21:39:06.953003",
     "status": "completed"
    },
    "tags": []
   },
   "outputs": [
    {
     "data": {
      "text/plain": [
       "MinMaxScaler()"
      ]
     },
     "execution_count": 19,
     "metadata": {},
     "output_type": "execute_result"
    }
   ],
   "source": [
    "from sklearn.preprocessing import MinMaxScaler \n",
    "scaler = MinMaxScaler()\n",
    "scaler.fit(auto)"
   ]
  },
  {
   "cell_type": "markdown",
   "id": "c526e860",
   "metadata": {
    "papermill": {
     "duration": 0.036937,
     "end_time": "2021-09-01T21:39:07.078969",
     "exception": false,
     "start_time": "2021-09-01T21:39:07.042032",
     "status": "completed"
    },
    "tags": []
   },
   "source": [
    "kolonları kendi içerisinde büyükten küçüğe 0 ile 1 arasında deeğrler vererek ölçeklendiriyor"
   ]
  },
  {
   "cell_type": "code",
   "execution_count": 20,
   "id": "5e55df4a",
   "metadata": {
    "execution": {
     "iopub.execute_input": "2021-09-01T21:39:07.171204Z",
     "iopub.status.busy": "2021-09-01T21:39:07.170536Z",
     "iopub.status.idle": "2021-09-01T21:39:07.173666Z",
     "shell.execute_reply": "2021-09-01T21:39:07.173159Z",
     "shell.execute_reply.started": "2021-09-01T21:09:18.162805Z"
    },
    "papermill": {
     "duration": 0.057186,
     "end_time": "2021-09-01T21:39:07.173809",
     "exception": false,
     "start_time": "2021-09-01T21:39:07.116623",
     "status": "completed"
    },
    "tags": []
   },
   "outputs": [
    {
     "name": "stdout",
     "output_type": "stream",
     "text": [
      "          mpg  cylinders  displacement  horsepower    weight  acceleration  \\\n",
      "0    0.239362        1.0      0.617571    0.456522  0.536150      0.238095   \n",
      "1    0.159574        1.0      0.728682    0.646739  0.589736      0.208333   \n",
      "2    0.239362        1.0      0.645995    0.565217  0.516870      0.178571   \n",
      "3    0.186170        1.0      0.609819    0.565217  0.516019      0.238095   \n",
      "4    0.212766        1.0      0.604651    0.510870  0.520556      0.148810   \n",
      "..        ...        ...           ...         ...       ...           ...   \n",
      "393  0.478723        0.2      0.186047    0.217391  0.333711      0.452381   \n",
      "394  0.930851        0.2      0.074935    0.032609  0.146583      0.988095   \n",
      "395  0.611702        0.2      0.173127    0.206522  0.193365      0.214286   \n",
      "396  0.505319        0.2      0.134367    0.179348  0.286929      0.630952   \n",
      "397  0.585106        0.2      0.131783    0.195652  0.313864      0.678571   \n",
      "\n",
      "     model_year  origin  \n",
      "0           0.0     0.0  \n",
      "1           0.0     0.0  \n",
      "2           0.0     0.0  \n",
      "3           0.0     0.0  \n",
      "4           0.0     0.0  \n",
      "..          ...     ...  \n",
      "393         1.0     0.0  \n",
      "394         1.0     0.5  \n",
      "395         1.0     0.0  \n",
      "396         1.0     0.0  \n",
      "397         1.0     0.0  \n",
      "\n",
      "[398 rows x 8 columns]\n"
     ]
    }
   ],
   "source": [
    "auto_scaled = pd.DataFrame(scaler.fit_transform(auto),columns=auto.columns)\n",
    "print(auto_scaled)"
   ]
  },
  {
   "cell_type": "markdown",
   "id": "bc537f14",
   "metadata": {
    "papermill": {
     "duration": 0.037794,
     "end_time": "2021-09-01T21:39:07.249932",
     "exception": false,
     "start_time": "2021-09-01T21:39:07.212138",
     "status": "completed"
    },
    "tags": []
   },
   "source": [
    "bu şekilde dönüşüyor"
   ]
  },
  {
   "cell_type": "markdown",
   "id": "70866fbf",
   "metadata": {
    "papermill": {
     "duration": 0.037319,
     "end_time": "2021-09-01T21:39:07.324783",
     "exception": false,
     "start_time": "2021-09-01T21:39:07.287464",
     "status": "completed"
    },
    "tags": []
   },
   "source": [
    "StandartScaler da -1  ile 1 arasında değerler veriyor  standar normal dağılıma sahip bir yapıya dönüştürüyor "
   ]
  },
  {
   "cell_type": "code",
   "execution_count": 21,
   "id": "89368c69",
   "metadata": {
    "execution": {
     "iopub.execute_input": "2021-09-01T21:39:07.405743Z",
     "iopub.status.busy": "2021-09-01T21:39:07.405062Z",
     "iopub.status.idle": "2021-09-01T21:39:07.406863Z",
     "shell.execute_reply": "2021-09-01T21:39:07.407287Z",
     "shell.execute_reply.started": "2021-09-01T21:24:08.749363Z"
    },
    "papermill": {
     "duration": 0.045136,
     "end_time": "2021-09-01T21:39:07.407471",
     "exception": false,
     "start_time": "2021-09-01T21:39:07.362335",
     "status": "completed"
    },
    "tags": []
   },
   "outputs": [],
   "source": [
    "X= auto_scaled.loc[:,auto.columns!=\"mpg\"]\n",
    "y=auto_scaled.mpg"
   ]
  },
  {
   "cell_type": "markdown",
   "id": "02af9f61",
   "metadata": {
    "papermill": {
     "duration": 0.037149,
     "end_time": "2021-09-01T21:39:07.482240",
     "exception": false,
     "start_time": "2021-09-01T21:39:07.445091",
     "status": "completed"
    },
    "tags": []
   },
   "source": [
    "bağımlı tahmin edeceğim y ile bağımsız değişkenleri x'i ayırıyoruz"
   ]
  },
  {
   "cell_type": "code",
   "execution_count": 22,
   "id": "3ea97b85",
   "metadata": {
    "execution": {
     "iopub.execute_input": "2021-09-01T21:39:07.560532Z",
     "iopub.status.busy": "2021-09-01T21:39:07.559882Z",
     "iopub.status.idle": "2021-09-01T21:39:07.620943Z",
     "shell.execute_reply": "2021-09-01T21:39:07.621481Z",
     "shell.execute_reply.started": "2021-09-01T21:26:09.024984Z"
    },
    "papermill": {
     "duration": 0.101776,
     "end_time": "2021-09-01T21:39:07.621669",
     "exception": false,
     "start_time": "2021-09-01T21:39:07.519893",
     "status": "completed"
    },
    "tags": []
   },
   "outputs": [],
   "source": [
    "from sklearn.model_selection import train_test_split\n",
    "X_train ,X_test,y_train,y_test= train_test_split(X,y,test_size=0.20)"
   ]
  },
  {
   "cell_type": "markdown",
   "id": "de63fa57",
   "metadata": {
    "papermill": {
     "duration": 0.037365,
     "end_time": "2021-09-01T21:39:07.696976",
     "exception": false,
     "start_time": "2021-09-01T21:39:07.659611",
     "status": "completed"
    },
    "tags": []
   },
   "source": [
    "veri setini 80 20 şeklinde bölüyoruz 80 lik kısım eğitim kısmı 20 lik kısmı en son test kısmı ne kadar doğru bilmişim bunu ölçmek için kullanıyoruz "
   ]
  },
  {
   "cell_type": "code",
   "execution_count": 23,
   "id": "1f621a47",
   "metadata": {
    "execution": {
     "iopub.execute_input": "2021-09-01T21:39:07.776016Z",
     "iopub.status.busy": "2021-09-01T21:39:07.775325Z",
     "iopub.status.idle": "2021-09-01T21:39:07.866874Z",
     "shell.execute_reply": "2021-09-01T21:39:07.866168Z",
     "shell.execute_reply.started": "2021-09-01T21:26:25.422506Z"
    },
    "papermill": {
     "duration": 0.132313,
     "end_time": "2021-09-01T21:39:07.867024",
     "exception": false,
     "start_time": "2021-09-01T21:39:07.734711",
     "status": "completed"
    },
    "tags": []
   },
   "outputs": [],
   "source": [
    "from sklearn.linear_model import LinearRegression\n",
    "lr = LinearRegression()"
   ]
  },
  {
   "cell_type": "code",
   "execution_count": null,
   "id": "0da7fcd0",
   "metadata": {
    "papermill": {
     "duration": 0.03736,
     "end_time": "2021-09-01T21:39:07.942070",
     "exception": false,
     "start_time": "2021-09-01T21:39:07.904710",
     "status": "completed"
    },
    "tags": []
   },
   "outputs": [],
   "source": []
  }
 ],
 "metadata": {
  "kernelspec": {
   "display_name": "Python 3",
   "language": "python",
   "name": "python3"
  },
  "language_info": {
   "codemirror_mode": {
    "name": "ipython",
    "version": 3
   },
   "file_extension": ".py",
   "mimetype": "text/x-python",
   "name": "python",
   "nbconvert_exporter": "python",
   "pygments_lexer": "ipython3",
   "version": "3.7.10"
  },
  "papermill": {
   "default_parameters": {},
   "duration": 14.580778,
   "end_time": "2021-09-01T21:39:08.691818",
   "environment_variables": {},
   "exception": null,
   "input_path": "__notebook__.ipynb",
   "output_path": "__notebook__.ipynb",
   "parameters": {},
   "start_time": "2021-09-01T21:38:54.111040",
   "version": "2.3.3"
  }
 },
 "nbformat": 4,
 "nbformat_minor": 5
}
